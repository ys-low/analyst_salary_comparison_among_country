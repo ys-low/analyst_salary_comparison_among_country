{
 "cells": [
  {
   "attachments": {},
   "cell_type": "markdown",
   "metadata": {},
   "source": [
    "The goal of the web scraping is to provide data required for investigation of data analyst salaries in different countries.\n",
    "\n",
    "talentup is the website chosen to be used.\n",
    "\n",
    "Therefore, the very first step is determine how talentup navigates to different countries when showing data analyst salaries."
   ]
  },
  {
   "attachments": {},
   "cell_type": "markdown",
   "metadata": {},
   "source": [
    "Turned out talentup navigate to different countries by changing the directory of URL."
   ]
  },
  {
   "attachments": {
    "Screenshot2023-01-15161425.png": {
     "image/png": "[encoded data removed]"
    }
   },
   "cell_type": "markdown",
   "metadata": {},
   "source": [
    "![Screenshot2023-01-15161425.png](attachment:Screenshot2023-01-15161425.png)"
   ]
  },
  {
   "attachments": {},
   "cell_type": "markdown",
   "metadata": {},
   "source": [
    "The next step is to figure out how talentup indicate each country."
   ]
  },
  {
   "cell_type": "code",
   "execution_count": 2,
   "metadata": {},
   "outputs": [],
   "source": [
    "from bs4 import BeautifulSoup\n",
    "import time\n",
    "import pandas as pd\n",
    "import requests"
   ]
  },
  {
   "cell_type": "code",
   "execution_count": null,
   "metadata": {},
   "outputs": [],
   "source": [
    "url1= \"https://talentup.io/dataavailable/\"\n",
    "page = requests.get(url1)\n",
    "page"
   ]
  },
  {
   "cell_type": "code",
   "execution_count": 131,
   "metadata": {},
   "outputs": [],
   "source": [
    "soup = BeautifulSoup(page.content, 'html.parser')"
   ]
  },
  {
   "cell_type": "code",
   "execution_count": 138,
   "metadata": {},
   "outputs": [],
   "source": [
    "lists = soup.find_all('div', class_=\"col-sm-12 col-lg-6\")[1]\n",
    "country_list = lists.find_all('h3', class_=\"md-title md-title-pricing col-10 accordion\")\n",
    "len(country_list)\n"
   ]
  },
  {
   "cell_type": "code",
   "execution_count": 184,
   "metadata": {},
   "outputs": [],
   "source": [
    "df = []\n",
    "for i in range(59):\n",
    "    df.append(\n",
    "        country_list[i].text\n",
    "    ),\n",
    "    time.sleep(1)\n",
    "\n"
   ]
  },
  {
   "cell_type": "code",
   "execution_count": 248,
   "metadata": {},
   "outputs": [],
   "source": [
    "df_country=df"
   ]
  },
  {
   "cell_type": "code",
   "execution_count": 265,
   "metadata": {},
   "outputs": [],
   "source": [
    "list_of_country = pd.DataFrame(df_country)"
   ]
  },
  {
   "cell_type": "code",
   "execution_count": 268,
   "metadata": {},
   "outputs": [],
   "source": [
    "list_of_country.to_csv(r\"C:\\Users\\User\\Projects\\Web_Scraping\\list_of_country.csv\")"
   ]
  },
  {
   "attachments": {},
   "cell_type": "markdown",
   "metadata": {},
   "source": [
    "What countries included in talentup obtained."
   ]
  },
  {
   "cell_type": "code",
   "execution_count": 266,
   "metadata": {},
   "outputs": [
    {
     "data": {
      "text/html": [
       "<div>\n",
       "<style scoped>\n",
       "    .dataframe tbody tr th:only-of-type {\n",
       "        vertical-align: middle;\n",
       "    }\n",
       "\n",
       "    .dataframe tbody tr th {\n",
       "        vertical-align: top;\n",
       "    }\n",
       "\n",
       "    .dataframe thead th {\n",
       "        text-align: right;\n",
       "    }\n",
       "</style>\n",
       "<table border=\"1\" class=\"dataframe\">\n",
       "  <thead>\n",
       "    <tr style=\"text-align: right;\">\n",
       "      <th></th>\n",
       "      <th>0</th>\n",
       "    </tr>\n",
       "  </thead>\n",
       "  <tbody>\n",
       "    <tr>\n",
       "      <th>0</th>\n",
       "      <td>Argentina</td>\n",
       "    </tr>\n",
       "    <tr>\n",
       "      <th>1</th>\n",
       "      <td>Australia</td>\n",
       "    </tr>\n",
       "    <tr>\n",
       "      <th>2</th>\n",
       "      <td>Austria</td>\n",
       "    </tr>\n",
       "    <tr>\n",
       "      <th>3</th>\n",
       "      <td>Belarus</td>\n",
       "    </tr>\n",
       "    <tr>\n",
       "      <th>4</th>\n",
       "      <td>Belgium</td>\n",
       "    </tr>\n",
       "    <tr>\n",
       "      <th>...</th>\n",
       "      <td>...</td>\n",
       "    </tr>\n",
       "    <tr>\n",
       "      <th>113</th>\n",
       "      <td>Tunisia</td>\n",
       "    </tr>\n",
       "    <tr>\n",
       "      <th>114</th>\n",
       "      <td>Turkey</td>\n",
       "    </tr>\n",
       "    <tr>\n",
       "      <th>115</th>\n",
       "      <td>Ukraine</td>\n",
       "    </tr>\n",
       "    <tr>\n",
       "      <th>116</th>\n",
       "      <td>United Kingdom</td>\n",
       "    </tr>\n",
       "    <tr>\n",
       "      <th>117</th>\n",
       "      <td>United States</td>\n",
       "    </tr>\n",
       "  </tbody>\n",
       "</table>\n",
       "<p>118 rows × 1 columns</p>\n",
       "</div>"
      ],
      "text/plain": [
       "                  0\n",
       "0         Argentina\n",
       "1         Australia\n",
       "2           Austria\n",
       "3           Belarus\n",
       "4           Belgium\n",
       "..              ...\n",
       "113         Tunisia\n",
       "114          Turkey\n",
       "115         Ukraine\n",
       "116  United Kingdom\n",
       "117   United States\n",
       "\n",
       "[118 rows x 1 columns]"
      ]
     },
     "execution_count": 266,
     "metadata": {},
     "output_type": "execute_result"
    }
   ],
   "source": [
    "list_of_country"
   ]
  },
  {
   "cell_type": "code",
   "execution_count": 249,
   "metadata": {},
   "outputs": [],
   "source": [
    "df_salary = []"
   ]
  },
  {
   "attachments": {},
   "cell_type": "markdown",
   "metadata": {},
   "source": [
    "Using the country obtain, scrape salary. Blank space replaced with \"%20\""
   ]
  },
  {
   "cell_type": "code",
   "execution_count": 261,
   "metadata": {},
   "outputs": [
    {
     "name": "stdout",
     "output_type": "stream",
     "text": [
      "<Response [200]>\n",
      "<Response [200]>\n",
      "<Response [200]>\n",
      "<Response [200]>\n",
      "<Response [200]>\n",
      "<Response [200]>\n",
      "<Response [200]>\n",
      "<Response [200]>\n",
      "<Response [200]>\n",
      "<Response [200]>\n",
      "<Response [200]>\n",
      "<Response [200]>\n",
      "<Response [200]>\n",
      "<Response [200]>\n",
      "<Response [200]>\n",
      "<Response [200]>\n",
      "<Response [200]>\n",
      "<Response [200]>\n",
      "<Response [200]>\n",
      "<Response [200]>\n",
      "<Response [200]>\n",
      "<Response [200]>\n",
      "<Response [200]>\n",
      "<Response [200]>\n",
      "<Response [200]>\n",
      "<Response [200]>\n",
      "<Response [200]>\n",
      "<Response [200]>\n",
      "<Response [200]>\n",
      "<Response [200]>\n",
      "<Response [200]>\n",
      "<Response [200]>\n",
      "<Response [200]>\n",
      "<Response [200]>\n",
      "<Response [200]>\n",
      "<Response [200]>\n",
      "<Response [200]>\n",
      "<Response [200]>\n",
      "<Response [200]>\n",
      "<Response [200]>\n",
      "<Response [200]>\n",
      "<Response [200]>\n",
      "<Response [200]>\n",
      "<Response [200]>\n",
      "<Response [200]>\n",
      "<Response [200]>\n",
      "<Response [200]>\n",
      "<Response [200]>\n",
      "<Response [200]>\n",
      "<Response [200]>\n",
      "<Response [200]>\n",
      "<Response [200]>\n",
      "<Response [200]>\n",
      "<Response [200]>\n",
      "<Response [200]>\n",
      "<Response [200]>\n",
      "<Response [200]>\n",
      "<Response [200]>\n",
      "<Response [200]>\n",
      "<Response [200]>\n",
      "<Response [200]>\n",
      "<Response [200]>\n",
      "<Response [200]>\n",
      "<Response [200]>\n",
      "<Response [200]>\n",
      "<Response [200]>\n",
      "<Response [200]>\n",
      "<Response [200]>\n",
      "<Response [200]>\n",
      "<Response [200]>\n",
      "<Response [200]>\n",
      "<Response [200]>\n",
      "<Response [200]>\n",
      "<Response [200]>\n",
      "<Response [200]>\n",
      "<Response [200]>\n",
      "<Response [200]>\n",
      "<Response [200]>\n",
      "<Response [200]>\n",
      "<Response [200]>\n",
      "<Response [200]>\n",
      "<Response [200]>\n",
      "<Response [200]>\n",
      "<Response [200]>\n",
      "<Response [200]>\n",
      "<Response [200]>\n",
      "<Response [200]>\n",
      "<Response [200]>\n",
      "<Response [200]>\n",
      "<Response [200]>\n",
      "<Response [200]>\n",
      "<Response [200]>\n",
      "<Response [200]>\n",
      "<Response [200]>\n",
      "<Response [200]>\n",
      "<Response [200]>\n",
      "<Response [200]>\n",
      "<Response [200]>\n",
      "<Response [200]>\n",
      "<Response [200]>\n",
      "<Response [200]>\n",
      "<Response [200]>\n",
      "<Response [200]>\n",
      "<Response [200]>\n",
      "<Response [200]>\n",
      "<Response [200]>\n",
      "<Response [200]>\n",
      "<Response [200]>\n",
      "<Response [200]>\n",
      "<Response [200]>\n",
      "<Response [200]>\n",
      "<Response [200]>\n",
      "<Response [200]>\n",
      "<Response [200]>\n",
      "<Response [200]>\n",
      "<Response [200]>\n",
      "<Response [200]>\n",
      "<Response [200]>\n"
     ]
    }
   ],
   "source": [
    "for i in df_country:\n",
    "    url_salary= \"https://talentup.io/salary/Data%20Analyst/\"+i\n",
    "    page_salary = requests.get(url_salary)\n",
    "    print(page_salary)\n",
    "    time.sleep(2)\n",
    "    soup_salary = BeautifulSoup(page_salary.content, 'html.parser')\n",
    "    salary = soup_salary.find('span', id=\"salary1\").text\n",
    "    \n",
    "    df_salary.append(\n",
    "        salary\n",
    "    )"
   ]
  },
  {
   "cell_type": "code",
   "execution_count": 269,
   "metadata": {},
   "outputs": [],
   "source": [
    "salary_data = pd.DataFrame(df_salary)"
   ]
  },
  {
   "cell_type": "code",
   "execution_count": 270,
   "metadata": {},
   "outputs": [],
   "source": [
    "salary_data.to_csv(r\"C:\\Users\\User\\Projects\\Web_Scraping\\salary_data.csv\")"
   ]
  },
  {
   "cell_type": "code",
   "execution_count": 263,
   "metadata": {},
   "outputs": [
    {
     "data": {
      "text/plain": [
       "['1,503,900 $',\n",
       " '111,100 $',\n",
       " '53,200 €',\n",
       " '952,071,300 Br',\n",
       " '59,500 €',\n",
       " '50,900 КМ',\n",
       " '227,000 R$',\n",
       " '57,100 лв',\n",
       " '86,300 $',\n",
       " '27,384,400 $',\n",
       " '235,000 ¥',\n",
       " '41,831,600 $',\n",
       " '261,500 Kn',\n",
       " '900,300 Kč',\n",
       " '535,100 kr',\n",
       " '1,480,700 $',\n",
       " '41,300 €',\n",
       " '60,900 €',\n",
       " '54,400 €',\n",
       " '63,400 €',\n",
       " '55,200 €',\n",
       " '637,800 $',\n",
       " '10,227,600 Ft',\n",
       " '1,350,400 ₹',\n",
       " '324,836,600 Rp',\n",
       " '61,500 €',\n",
       " '234,900 ₪',\n",
       " '63,600 €',\n",
       " '8,019,700 ¥',\n",
       " '39,100 €',\n",
       " '36,600 €',\n",
       " '68,000 €',\n",
       " '105,200 RM',\n",
       " '55,400 €',\n",
       " '546,800 $',\n",
       " '248,100 د.م.',\n",
       " '63,000 €',\n",
       " '750,700 kr',\n",
       " '2,714,500 ₨',\n",
       " '109,600 S/.',\n",
       " '1,292,000 ₱',\n",
       " '175,800 zł',\n",
       " '41,400 €',\n",
       " '131,200 L',\n",
       " '1,748,600 руб.',\n",
       " '2,693,400 din',\n",
       " '85,200 $',\n",
       " '43,000 €',\n",
       " '719,300 R',\n",
       " '67,987,400 ₩',\n",
       " '48,600 €',\n",
       " '652,900 kr',\n",
       " '122,800 ₣',\n",
       " '968,900 ฿',\n",
       " '97,600 د.ت',\n",
       " '127,400 ₤',\n",
       " '717,100 ₴',\n",
       " '47,200 £',\n",
       " '75,100 $',\n",
       " '1,503,900 $',\n",
       " '111,100 $',\n",
       " '53,200 €',\n",
       " '952,071,300 Br',\n",
       " '59,500 €',\n",
       " '50,900 КМ',\n",
       " '227,000 R$',\n",
       " '57,100 лв',\n",
       " '86,300 $',\n",
       " '27,384,400 $',\n",
       " '235,000 ¥',\n",
       " '41,831,600 $',\n",
       " '261,500 Kn',\n",
       " '900,300 Kč',\n",
       " '535,100 kr',\n",
       " '1,480,700 $',\n",
       " '41,300 €',\n",
       " '60,900 €',\n",
       " '54,400 €',\n",
       " '63,400 €',\n",
       " '55,200 €',\n",
       " '637,800 $',\n",
       " '10,227,600 Ft',\n",
       " '1,350,400 ₹',\n",
       " '324,836,600 Rp',\n",
       " '61,500 €',\n",
       " '234,900 ₪',\n",
       " '63,600 €',\n",
       " '8,019,700 ¥',\n",
       " '39,100 €',\n",
       " '36,600 €',\n",
       " '68,000 €',\n",
       " '105,200 RM',\n",
       " '55,400 €',\n",
       " '546,800 $',\n",
       " '248,100 د.م.',\n",
       " '63,000 €',\n",
       " '750,700 kr',\n",
       " '2,714,500 ₨',\n",
       " '109,600 S/.',\n",
       " '1,292,000 ₱',\n",
       " '175,800 zł',\n",
       " '41,400 €',\n",
       " '131,200 L',\n",
       " '1,748,600 руб.',\n",
       " '2,693,400 din',\n",
       " '85,200 $',\n",
       " '43,000 €',\n",
       " '719,300 R',\n",
       " '67,987,400 ₩',\n",
       " '48,600 €',\n",
       " '652,900 kr',\n",
       " '122,800 ₣',\n",
       " '968,900 ฿',\n",
       " '97,600 د.ت',\n",
       " '127,400 ₤',\n",
       " '717,100 ₴',\n",
       " '47,200 £',\n",
       " '75,100 $']"
      ]
     },
     "execution_count": 263,
     "metadata": {},
     "output_type": "execute_result"
    }
   ],
   "source": [
    "df_salary.to_csv()"
   ]
  }
 ],
 "metadata": {
  "kernelspec": {
   "display_name": "base",
   "language": "python",
   "name": "python3"
  },
  "language_info": {
   "codemirror_mode": {
    "name": "ipython",
    "version": 3
   },
   "file_extension": ".py",
   "mimetype": "text/x-python",
   "name": "python",
   "nbconvert_exporter": "python",
   "pygments_lexer": "ipython3",
   "version": "3.9.13"
  },
  "orig_nbformat": 4,
  "vscode": {
   "interpreter": {
    "hash": "f08154012ddadd8e950e6e9e035c7a7b32c136e7647e9b7c77e02eb723a8bedb"
   }
  }
 },
 "nbformat": 4,
 "nbformat_minor": 2
}
